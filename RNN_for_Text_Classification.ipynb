{
  "nbformat": 4,
  "nbformat_minor": 0,
  "metadata": {
    "colab": {
      "name": "RNN for Text Classification.ipynb",
      "provenance": [],
      "collapsed_sections": []
    },
    "kernelspec": {
      "name": "python3",
      "display_name": "Python 3"
    },
    "language_info": {
      "name": "python"
    }
  },
  "cells": [
    {
      "cell_type": "code",
      "execution_count": null,
      "metadata": {
        "colab": {
          "base_uri": "https://localhost:8080/"
        },
        "id": "68YSNK59Vq_u",
        "outputId": "27993a20-b23d-4b7b-8eac-25144c0c01fd"
      },
      "outputs": [
        {
          "output_type": "stream",
          "name": "stderr",
          "text": [
            "[nltk_data] Downloading package stopwords to /root/nltk_data...\n",
            "[nltk_data]   Unzipping corpora/stopwords.zip.\n"
          ]
        }
      ],
      "source": [
        "import json\n",
        "import string\n",
        "from bs4 import BeautifulSoup\n",
        "import nltk\n",
        "from nltk.corpus import stopwords\n",
        "nltk.download('stopwords')\n",
        "stopwords = stopwords.words('english')\n",
        "table = str.maketrans('','',string.punctuation)\n",
        "with open(\"Sarcasm_Headlines_Dataset.json\", 'r') as f:\n",
        "  datastore = [json.loads(line) for line in f]\n",
        "sentences = []\n",
        "labels = []\n",
        "urls = []\n",
        "for item in datastore:\n",
        "  sentence = item['headline'].lower()\n",
        "  sentence = sentence.replace(\",\", \" , \")\n",
        "  sentence = sentence.replace(\".\", \" . \")\n",
        "  sentence = sentence.replace(\"-\", \" - \")\n",
        "  sentence = sentence.replace(\"/\", \" / \")\n",
        "  soup = BeautifulSoup(sentence)\n",
        "  sentence = soup.get_text()\n",
        "  words = sentence.split()\n",
        "  filtered_sentence = \"\"\n",
        "  for word in words:\n",
        "   word = word.translate(table)\n",
        "   if word not in stopwords:\n",
        "     filtered_sentence = filtered_sentence + word + \" \"\n",
        "  sentences.append(filtered_sentence)\n",
        "  labels.append(item['is_sarcastic'])\n",
        "  urls.append(item['article_link'])\n",
        "  training_size = 25000\n",
        "tr_sentences = sentences[0:training_size]\n",
        "tr_labels = labels[0:training_size]\n",
        "t_sentences = sentences[training_size:]\n",
        "t_labels = labels[training_size:]\n"
      ]
    },
    {
      "cell_type": "code",
      "source": [
        "import tensorflow as tf\n",
        "from tensorflow.keras import Sequential\n",
        "from tensorflow.keras.layers import Bidirectional,LSTM,Dense,Embedding"
      ],
      "metadata": {
        "id": "aqV8yLcTWATQ"
      },
      "execution_count": null,
      "outputs": []
    },
    {
      "cell_type": "code",
      "source": [
        "model = Sequential([\n",
        "                    Embedding(20000,7),\n",
        "                    Bidirectional(LSTM(7)),\n",
        "                    Dense(24,activation = 'relu'),\n",
        "                    Dense(1,activation = 'sigmoid')\n",
        "])"
      ],
      "metadata": {
        "id": "rIVIhjEFWOJh"
      },
      "execution_count": null,
      "outputs": []
    },
    {
      "cell_type": "code",
      "source": [
        "adam_new = tf.keras.optimizers.Adam(learning_rate = 0.00001,beta_1=0.9,beta_2 =0.999,amsgrad=False)"
      ],
      "metadata": {
        "id": "I8PO_OEWWeaM"
      },
      "execution_count": null,
      "outputs": []
    },
    {
      "cell_type": "code",
      "source": [
        "model.compile(loss = 'binary_crossentropy',optimizer = adam_new,metrics = ['accuracy'])"
      ],
      "metadata": {
        "id": "e3aw7vnpWtOa"
      },
      "execution_count": null,
      "outputs": []
    },
    {
      "cell_type": "code",
      "source": [
        "tokenizer = tf.keras.preprocessing.text.Tokenizer(num_words=20000,oov_token = '<OOV')"
      ],
      "metadata": {
        "id": "xdRJH8XCW2Nv"
      },
      "execution_count": null,
      "outputs": []
    },
    {
      "cell_type": "code",
      "source": [
        "tokenizer.fit_on_texts(tr_sentences)"
      ],
      "metadata": {
        "id": "xyuJEIyRW48B"
      },
      "execution_count": null,
      "outputs": []
    },
    {
      "cell_type": "code",
      "source": [
        "tr_seq= tokenizer.texts_to_sequences(tr_sentences)"
      ],
      "metadata": {
        "id": "tS7F9AWpX8NH"
      },
      "execution_count": null,
      "outputs": []
    },
    {
      "cell_type": "code",
      "source": [
        "from tensorflow.keras.preprocessing.sequence import pad_sequences"
      ],
      "metadata": {
        "id": "-ZK_GVWjYH_z"
      },
      "execution_count": null,
      "outputs": []
    },
    {
      "cell_type": "code",
      "source": [
        "tr_padded = pad_sequences(tr_seq,maxlen=10,truncating='post',padding='post')"
      ],
      "metadata": {
        "id": "USBq5FlNYRxU"
      },
      "execution_count": null,
      "outputs": []
    },
    {
      "cell_type": "code",
      "source": [
        "import numpy as np\n",
        "tr_padded = np.array(tr_padded)\n",
        "tr_labels = np.array(tr_labels)"
      ],
      "metadata": {
        "id": "kBunVjIlY3Wl"
      },
      "execution_count": null,
      "outputs": []
    },
    {
      "cell_type": "code",
      "source": [
        "print(tr_padded)"
      ],
      "metadata": {
        "colab": {
          "base_uri": "https://localhost:8080/"
        },
        "id": "wDnpjD_DZoCu",
        "outputId": "07018a5f-e265-40c5-e7fc-d352dbb3d6da"
      },
      "execution_count": null,
      "outputs": [
        {
          "output_type": "stream",
          "name": "stdout",
          "text": [
            "[[  218 13789   596 ...  1903  2325  7873]\n",
            " [ 7874  3374  2670 ...   984     0     0]\n",
            " [   72   761   697 ...   135  9990     0]\n",
            " ...\n",
            " [   65  6975  2859 ...     0     0     0]\n",
            " [ 3749  3720  3558 ...   198  1655     0]\n",
            " [  404  1300     1 ...   555     0     0]]\n"
          ]
        }
      ]
    },
    {
      "cell_type": "code",
      "source": [
        "model.fit(tr_padded,tr_labels,epochs =50)"
      ],
      "metadata": {
        "colab": {
          "base_uri": "https://localhost:8080/"
        },
        "id": "PyHbEC4-Yts_",
        "outputId": "d4ed3bc4-a799-4a64-909b-bc26ba27ea4c"
      },
      "execution_count": null,
      "outputs": [
        {
          "output_type": "stream",
          "name": "stdout",
          "text": [
            "Epoch 1/50\n",
            "782/782 [==============================] - 8s 10ms/step - loss: 0.6851 - accuracy: 0.5609\n",
            "Epoch 2/50\n",
            "782/782 [==============================] - 7s 9ms/step - loss: 0.6832 - accuracy: 0.5609\n",
            "Epoch 3/50\n",
            "782/782 [==============================] - 7s 9ms/step - loss: 0.6810 - accuracy: 0.5609\n",
            "Epoch 4/50\n",
            "782/782 [==============================] - 7s 9ms/step - loss: 0.6787 - accuracy: 0.5610\n",
            "Epoch 5/50\n",
            "782/782 [==============================] - 7s 9ms/step - loss: 0.6760 - accuracy: 0.5612\n",
            "Epoch 6/50\n",
            "782/782 [==============================] - 7s 9ms/step - loss: 0.6731 - accuracy: 0.5620\n",
            "Epoch 7/50\n",
            "782/782 [==============================] - 7s 9ms/step - loss: 0.6697 - accuracy: 0.5647\n",
            "Epoch 8/50\n",
            "782/782 [==============================] - 7s 9ms/step - loss: 0.6657 - accuracy: 0.5721\n",
            "Epoch 9/50\n",
            "782/782 [==============================] - 7s 9ms/step - loss: 0.6612 - accuracy: 0.5822\n",
            "Epoch 10/50\n",
            "782/782 [==============================] - 7s 9ms/step - loss: 0.6560 - accuracy: 0.5962\n",
            "Epoch 11/50\n",
            "782/782 [==============================] - 7s 9ms/step - loss: 0.6503 - accuracy: 0.6129\n",
            "Epoch 12/50\n",
            "782/782 [==============================] - 7s 9ms/step - loss: 0.6437 - accuracy: 0.6318\n",
            "Epoch 13/50\n",
            "782/782 [==============================] - 7s 9ms/step - loss: 0.6363 - accuracy: 0.6524\n",
            "Epoch 14/50\n",
            "782/782 [==============================] - 7s 9ms/step - loss: 0.6279 - accuracy: 0.6736\n",
            "Epoch 15/50\n",
            "782/782 [==============================] - 7s 9ms/step - loss: 0.6184 - accuracy: 0.6942\n",
            "Epoch 16/50\n",
            "782/782 [==============================] - 7s 9ms/step - loss: 0.6078 - accuracy: 0.7114\n",
            "Epoch 17/50\n",
            "782/782 [==============================] - 7s 9ms/step - loss: 0.5957 - accuracy: 0.7276\n",
            "Epoch 18/50\n",
            "782/782 [==============================] - 8s 10ms/step - loss: 0.5821 - accuracy: 0.7428\n",
            "Epoch 19/50\n",
            "782/782 [==============================] - 8s 10ms/step - loss: 0.5670 - accuracy: 0.7575\n",
            "Epoch 20/50\n",
            "782/782 [==============================] - 8s 10ms/step - loss: 0.5503 - accuracy: 0.7693\n",
            "Epoch 21/50\n",
            "782/782 [==============================] - 7s 10ms/step - loss: 0.5321 - accuracy: 0.7820\n",
            "Epoch 22/50\n",
            "782/782 [==============================] - 7s 9ms/step - loss: 0.5124 - accuracy: 0.7950\n",
            "Epoch 23/50\n",
            "782/782 [==============================] - 7s 9ms/step - loss: 0.4913 - accuracy: 0.8072\n",
            "Epoch 24/50\n",
            "782/782 [==============================] - 7s 9ms/step - loss: 0.4701 - accuracy: 0.8163\n",
            "Epoch 25/50\n",
            "782/782 [==============================] - 7s 9ms/step - loss: 0.4496 - accuracy: 0.8251\n",
            "Epoch 26/50\n",
            "782/782 [==============================] - 7s 9ms/step - loss: 0.4302 - accuracy: 0.8333\n",
            "Epoch 27/50\n",
            "782/782 [==============================] - 7s 9ms/step - loss: 0.4123 - accuracy: 0.8406\n",
            "Epoch 28/50\n",
            "782/782 [==============================] - 7s 9ms/step - loss: 0.3962 - accuracy: 0.8452\n",
            "Epoch 29/50\n",
            "782/782 [==============================] - 7s 9ms/step - loss: 0.3818 - accuracy: 0.8489\n",
            "Epoch 30/50\n",
            "782/782 [==============================] - 7s 9ms/step - loss: 0.3691 - accuracy: 0.8530\n",
            "Epoch 31/50\n",
            "782/782 [==============================] - 7s 9ms/step - loss: 0.3577 - accuracy: 0.8565\n",
            "Epoch 32/50\n",
            "782/782 [==============================] - 7s 9ms/step - loss: 0.3477 - accuracy: 0.8588\n",
            "Epoch 33/50\n",
            "782/782 [==============================] - 7s 9ms/step - loss: 0.3388 - accuracy: 0.8619\n",
            "Epoch 34/50\n",
            "782/782 [==============================] - 7s 9ms/step - loss: 0.3307 - accuracy: 0.8645\n",
            "Epoch 35/50\n",
            "782/782 [==============================] - 7s 9ms/step - loss: 0.3234 - accuracy: 0.8676\n",
            "Epoch 36/50\n",
            "782/782 [==============================] - 9s 11ms/step - loss: 0.3166 - accuracy: 0.8701\n",
            "Epoch 37/50\n",
            "782/782 [==============================] - 7s 9ms/step - loss: 0.3103 - accuracy: 0.8734\n",
            "Epoch 38/50\n",
            "782/782 [==============================] - 7s 9ms/step - loss: 0.3044 - accuracy: 0.8760\n",
            "Epoch 39/50\n",
            "782/782 [==============================] - 8s 10ms/step - loss: 0.2987 - accuracy: 0.8788\n",
            "Epoch 40/50\n",
            "782/782 [==============================] - 7s 9ms/step - loss: 0.2932 - accuracy: 0.8816\n",
            "Epoch 41/50\n",
            "782/782 [==============================] - 7s 9ms/step - loss: 0.2879 - accuracy: 0.8837\n",
            "Epoch 42/50\n",
            "782/782 [==============================] - 7s 8ms/step - loss: 0.2828 - accuracy: 0.8856\n",
            "Epoch 43/50\n",
            "782/782 [==============================] - 7s 9ms/step - loss: 0.2777 - accuracy: 0.8873\n",
            "Epoch 44/50\n",
            "782/782 [==============================] - 7s 8ms/step - loss: 0.2729 - accuracy: 0.8898\n",
            "Epoch 45/50\n",
            "782/782 [==============================] - 7s 9ms/step - loss: 0.2681 - accuracy: 0.8925\n",
            "Epoch 46/50\n",
            "782/782 [==============================] - 7s 9ms/step - loss: 0.2635 - accuracy: 0.8948\n",
            "Epoch 47/50\n",
            "782/782 [==============================] - 7s 9ms/step - loss: 0.2589 - accuracy: 0.8974\n",
            "Epoch 48/50\n",
            "782/782 [==============================] - 7s 9ms/step - loss: 0.2543 - accuracy: 0.9000\n",
            "Epoch 49/50\n",
            "782/782 [==============================] - 7s 9ms/step - loss: 0.2500 - accuracy: 0.9022\n",
            "Epoch 50/50\n",
            "782/782 [==============================] - 7s 9ms/step - loss: 0.2457 - accuracy: 0.9045\n"
          ]
        },
        {
          "output_type": "execute_result",
          "data": {
            "text/plain": [
              "<keras.callbacks.History at 0x7fefea14ff50>"
            ]
          },
          "metadata": {},
          "execution_count": 28
        }
      ]
    },
    {
      "cell_type": "code",
      "source": [
        ""
      ],
      "metadata": {
        "id": "yHAat8gvYx-G"
      },
      "execution_count": null,
      "outputs": []
    },
    {
      "cell_type": "code",
      "source": [
        "t_deq = tokenizer.texts_to_sequences(t_sentences)"
      ],
      "metadata": {
        "id": "y4nquXBWbe_q"
      },
      "execution_count": null,
      "outputs": []
    },
    {
      "cell_type": "code",
      "source": [
        "t_padded = pad_sequences(t_deq,maxlen=10,truncating='post',padding='post')"
      ],
      "metadata": {
        "id": "4pH2d1x2bova"
      },
      "execution_count": null,
      "outputs": []
    },
    {
      "cell_type": "code",
      "source": [
        "t_padded = np.array(t_padded)\n",
        "t_labels = np.array(t_labels)"
      ],
      "metadata": {
        "id": "zEc7grHMbz4o"
      },
      "execution_count": null,
      "outputs": []
    },
    {
      "cell_type": "code",
      "source": [
        "model.evaluate(t_padded,t_labels)"
      ],
      "metadata": {
        "colab": {
          "base_uri": "https://localhost:8080/"
        },
        "id": "3wZEMNdub5Nr",
        "outputId": "e1a37b63-5af1-4394-c2a3-3001c598e9c6"
      },
      "execution_count": null,
      "outputs": [
        {
          "output_type": "stream",
          "name": "stdout",
          "text": [
            "54/54 [==============================] - 1s 2ms/step - loss: 0.4616 - accuracy: 0.7999\n"
          ]
        },
        {
          "output_type": "execute_result",
          "data": {
            "text/plain": [
              "[0.46159443259239197, 0.7998829483985901]"
            ]
          },
          "metadata": {},
          "execution_count": 33
        }
      ]
    },
    {
      "cell_type": "code",
      "source": [
        "import tensorflow as tf\n",
        "model2 = tf.keras.Sequential([\n",
        " tf.keras.layers.Embedding(20000,7 ),\n",
        " tf.keras.layers.Bidirectional(tf.keras.layers.LSTM(7,\n",
        "return_sequences=True)),\n",
        " tf.keras.layers.Bidirectional(tf.keras.layers.LSTM(7)),\n",
        " tf.keras.layers.Dense(24, activation='relu'),\n",
        " tf.keras.layers.Dense(1, activation='sigmoid')\n",
        "])\n"
      ],
      "metadata": {
        "id": "QGsdHS2Vb7ZN"
      },
      "execution_count": null,
      "outputs": []
    },
    {
      "cell_type": "code",
      "source": [
        "model2.compile(loss='binary_crossentropy',optimizer = adam_new,metrics = ['accuracy'])"
      ],
      "metadata": {
        "id": "8udNaZNTckvx"
      },
      "execution_count": null,
      "outputs": []
    },
    {
      "cell_type": "code",
      "source": [
        "model2.fit(tr_padded,tr_labels,epochs = 25)"
      ],
      "metadata": {
        "colab": {
          "base_uri": "https://localhost:8080/"
        },
        "id": "jFyUAsORcxEJ",
        "outputId": "114ec9e5-3d3d-498c-ce41-572dd088271c"
      },
      "execution_count": null,
      "outputs": [
        {
          "output_type": "stream",
          "name": "stdout",
          "text": [
            "Epoch 1/25\n",
            "782/782 [==============================] - 11s 14ms/step - loss: 0.6793 - accuracy: 0.5609\n",
            "Epoch 2/25\n",
            "782/782 [==============================] - 11s 14ms/step - loss: 0.6760 - accuracy: 0.5609\n",
            "Epoch 3/25\n",
            "782/782 [==============================] - 12s 16ms/step - loss: 0.6717 - accuracy: 0.5610\n",
            "Epoch 4/25\n",
            "782/782 [==============================] - 11s 14ms/step - loss: 0.6657 - accuracy: 0.5637\n",
            "Epoch 5/25\n",
            "782/782 [==============================] - 11s 14ms/step - loss: 0.6576 - accuracy: 0.5775\n",
            "Epoch 6/25\n",
            "782/782 [==============================] - 11s 14ms/step - loss: 0.6463 - accuracy: 0.6098\n",
            "Epoch 7/25\n",
            "782/782 [==============================] - 11s 14ms/step - loss: 0.6308 - accuracy: 0.6544\n",
            "Epoch 8/25\n",
            "782/782 [==============================] - 11s 14ms/step - loss: 0.6101 - accuracy: 0.7030\n",
            "Epoch 9/25\n",
            "782/782 [==============================] - 11s 14ms/step - loss: 0.5832 - accuracy: 0.7404\n",
            "Epoch 10/25\n",
            "782/782 [==============================] - 11s 14ms/step - loss: 0.5513 - accuracy: 0.7679\n",
            "Epoch 11/25\n",
            "782/782 [==============================] - 11s 14ms/step - loss: 0.5169 - accuracy: 0.7880\n",
            "Epoch 12/25\n",
            "782/782 [==============================] - 11s 14ms/step - loss: 0.4831 - accuracy: 0.8024\n",
            "Epoch 13/25\n",
            "782/782 [==============================] - 11s 14ms/step - loss: 0.4530 - accuracy: 0.8146\n",
            "Epoch 14/25\n",
            "782/782 [==============================] - 11s 14ms/step - loss: 0.4283 - accuracy: 0.8226\n",
            "Epoch 15/25\n",
            "782/782 [==============================] - 11s 14ms/step - loss: 0.4086 - accuracy: 0.8291\n",
            "Epoch 16/25\n",
            "782/782 [==============================] - 12s 15ms/step - loss: 0.3930 - accuracy: 0.8352\n",
            "Epoch 17/25\n",
            "782/782 [==============================] - 12s 16ms/step - loss: 0.3803 - accuracy: 0.8397\n",
            "Epoch 18/25\n",
            "782/782 [==============================] - 12s 15ms/step - loss: 0.3695 - accuracy: 0.8454\n",
            "Epoch 19/25\n",
            "782/782 [==============================] - 11s 14ms/step - loss: 0.3598 - accuracy: 0.8498\n",
            "Epoch 20/25\n",
            "782/782 [==============================] - 11s 15ms/step - loss: 0.3509 - accuracy: 0.8546\n",
            "Epoch 21/25\n",
            "782/782 [==============================] - 11s 14ms/step - loss: 0.3428 - accuracy: 0.8587\n",
            "Epoch 22/25\n",
            "782/782 [==============================] - 12s 16ms/step - loss: 0.3349 - accuracy: 0.8632\n",
            "Epoch 23/25\n",
            "782/782 [==============================] - 12s 16ms/step - loss: 0.3273 - accuracy: 0.8667\n",
            "Epoch 24/25\n",
            "782/782 [==============================] - 12s 16ms/step - loss: 0.3199 - accuracy: 0.8701\n",
            "Epoch 25/25\n",
            "782/782 [==============================] - 12s 15ms/step - loss: 0.3129 - accuracy: 0.8740\n"
          ]
        },
        {
          "output_type": "execute_result",
          "data": {
            "text/plain": [
              "<keras.callbacks.History at 0x7fefec639250>"
            ]
          },
          "metadata": {},
          "execution_count": 39
        }
      ]
    },
    {
      "cell_type": "code",
      "source": [
        "model2.evaluate(t_padded,t_labels)"
      ],
      "metadata": {
        "colab": {
          "base_uri": "https://localhost:8080/"
        },
        "id": "N5AMVUIVc0qh",
        "outputId": "326fbfec-6a67-4196-c16d-34f94985d709"
      },
      "execution_count": null,
      "outputs": [
        {
          "output_type": "stream",
          "name": "stdout",
          "text": [
            "54/54 [==============================] - 2s 4ms/step - loss: 0.4916 - accuracy: 0.7765\n"
          ]
        },
        {
          "output_type": "execute_result",
          "data": {
            "text/plain": [
              "[0.4915625751018524, 0.7764774560928345]"
            ]
          },
          "metadata": {},
          "execution_count": 41
        }
      ]
    },
    {
      "cell_type": "code",
      "source": [
        ""
      ],
      "metadata": {
        "id": "CxfcMZhvebZx"
      },
      "execution_count": null,
      "outputs": []
    }
  ]
}